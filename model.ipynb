{
 "cells": [
  {
   "cell_type": "code",
   "execution_count": 22,
   "metadata": {
    "collapsed": true
   },
   "outputs": [],
   "source": [
    "import numpy as np\n",
    "import pandas as pd\n",
    "\n",
    "from sklearn.metrics import accuracy_score, classification_report\n",
    "from sklearn.feature_extraction.text import CountVectorizer"
   ]
  },
  {
   "cell_type": "code",
   "execution_count": 2,
   "metadata": {
    "collapsed": true
   },
   "outputs": [],
   "source": [
    "train = pd.read_json('data/train.json')"
   ]
  },
  {
   "cell_type": "code",
   "execution_count": 3,
   "metadata": {
    "collapsed": true
   },
   "outputs": [],
   "source": [
    "words = [' '.join(item) for item in train.ingredients]"
   ]
  },
  {
   "cell_type": "code",
   "execution_count": 4,
   "metadata": {},
   "outputs": [
    {
     "data": {
      "text/plain": [
       "39774"
      ]
     },
     "execution_count": 4,
     "metadata": {},
     "output_type": "execute_result"
    }
   ],
   "source": [
    "len(words)"
   ]
  },
  {
   "cell_type": "code",
   "execution_count": 5,
   "metadata": {
    "collapsed": true
   },
   "outputs": [],
   "source": [
    "vec = CountVectorizer(max_features=2000)\n",
    "bag_of_words = vec.fit(words).transform(words).toarray()"
   ]
  },
  {
   "cell_type": "code",
   "execution_count": 6,
   "metadata": {},
   "outputs": [
    {
     "data": {
      "text/plain": [
       "(39774, 2000)"
      ]
     },
     "execution_count": 6,
     "metadata": {},
     "output_type": "execute_result"
    }
   ],
   "source": [
    "train_bag = bag_of_words\n",
    "train_bag.shape"
   ]
  },
  {
   "cell_type": "code",
   "execution_count": 7,
   "metadata": {
    "collapsed": true
   },
   "outputs": [],
   "source": [
    "from sklearn.preprocessing import LabelEncoder"
   ]
  },
  {
   "cell_type": "code",
   "execution_count": 8,
   "metadata": {},
   "outputs": [
    {
     "data": {
      "text/plain": [
       "LabelEncoder()"
      ]
     },
     "execution_count": 8,
     "metadata": {},
     "output_type": "execute_result"
    }
   ],
   "source": [
    "labelEncoder = LabelEncoder()\n",
    "labelEncoder.fit(train['cuisine'])"
   ]
  },
  {
   "cell_type": "code",
   "execution_count": 9,
   "metadata": {
    "collapsed": true
   },
   "outputs": [],
   "source": [
    "train['target'] = labelEncoder.transform(train['cuisine'])\n"
   ]
  },
  {
   "cell_type": "code",
   "execution_count": 25,
   "metadata": {},
   "outputs": [
    {
     "name": "stdout",
     "output_type": "stream",
     "text": [
      "['brazilian' 'british' 'cajun_creole' 'chinese' 'filipino' 'french' 'greek'\n",
      " 'indian' 'irish' 'italian' 'jamaican' 'japanese' 'korean' 'mexican'\n",
      " 'moroccan' 'russian' 'southern_us' 'spanish' 'thai' 'vietnamese']\n"
     ]
    }
   ],
   "source": [
    "print(labelEncoder.classes_)"
   ]
  },
  {
   "cell_type": "code",
   "execution_count": 10,
   "metadata": {},
   "outputs": [
    {
     "name": "stderr",
     "output_type": "stream",
     "text": [
      "Using TensorFlow backend.\n"
     ]
    }
   ],
   "source": [
    "from keras.models import Sequential\n",
    "from keras.layers import Dense"
   ]
  },
  {
   "cell_type": "code",
   "execution_count": 11,
   "metadata": {
    "collapsed": true
   },
   "outputs": [],
   "source": [
    "from sklearn.model_selection import train_test_split"
   ]
  },
  {
   "cell_type": "code",
   "execution_count": 12,
   "metadata": {
    "collapsed": true
   },
   "outputs": [],
   "source": [
    "from keras.utils.np_utils import to_categorical"
   ]
  },
  {
   "cell_type": "code",
   "execution_count": 13,
   "metadata": {
    "collapsed": true
   },
   "outputs": [],
   "source": [
    "X_train, X_test, y_train, y_test = train_test_split(train_bag, train['target'], test_size=0.33, stratify=train['target'])"
   ]
  },
  {
   "cell_type": "code",
   "execution_count": 14,
   "metadata": {
    "collapsed": true
   },
   "outputs": [],
   "source": [
    "y_nn_train = to_categorical(y_train)\n",
    "y_nn_test = to_categorical(y_test)"
   ]
  },
  {
   "cell_type": "code",
   "execution_count": 15,
   "metadata": {},
   "outputs": [
    {
     "data": {
      "text/plain": [
       "((26648, 20), (13126, 20))"
      ]
     },
     "execution_count": 15,
     "metadata": {},
     "output_type": "execute_result"
    }
   ],
   "source": [
    "y_nn_train.shape, y_nn_test.shape"
   ]
  },
  {
   "cell_type": "code",
   "execution_count": 16,
   "metadata": {},
   "outputs": [
    {
     "data": {
      "text/plain": [
       "(26648, 2000)"
      ]
     },
     "execution_count": 16,
     "metadata": {},
     "output_type": "execute_result"
    }
   ],
   "source": [
    "X_train.shape"
   ]
  },
  {
   "cell_type": "code",
   "execution_count": 17,
   "metadata": {},
   "outputs": [
    {
     "name": "stderr",
     "output_type": "stream",
     "text": [
      "D:\\Programs\\Anaconda\\lib\\site-packages\\ipykernel\\__main__.py:6: UserWarning: Update your `Dense` call to the Keras 2 API: `Dense(1700, input_dim=2000, activation=\"relu\", kernel_initializer=\"uniform\")`\n",
      "D:\\Programs\\Anaconda\\lib\\site-packages\\ipykernel\\__main__.py:7: UserWarning: Update your `Dense` call to the Keras 2 API: `Dense(1000, activation=\"relu\", kernel_initializer=\"uniform\")`\n",
      "D:\\Programs\\Anaconda\\lib\\site-packages\\ipykernel\\__main__.py:8: UserWarning: Update your `Dense` call to the Keras 2 API: `Dense(500, activation=\"relu\", kernel_initializer=\"uniform\")`\n",
      "D:\\Programs\\Anaconda\\lib\\site-packages\\ipykernel\\__main__.py:9: UserWarning: Update your `Dense` call to the Keras 2 API: `Dense(250, activation=\"relu\", kernel_initializer=\"uniform\")`\n",
      "D:\\Programs\\Anaconda\\lib\\site-packages\\ipykernel\\__main__.py:10: UserWarning: Update your `Dense` call to the Keras 2 API: `Dense(50, activation=\"relu\", kernel_initializer=\"uniform\")`\n"
     ]
    }
   ],
   "source": [
    "seed = 7\n",
    "np.random.seed(seed)\n",
    "\n",
    "# create model\n",
    "model = Sequential()\n",
    "model.add(Dense(1700, input_dim=X_train.shape[1], init='uniform', activation='relu'))\n",
    "model.add(Dense(1000, init='uniform', activation='relu'))\n",
    "model.add(Dense(500, init='uniform', activation='relu'))\n",
    "model.add(Dense(250, init='uniform', activation='relu'))\n",
    "model.add(Dense(50, init='uniform', activation='relu'))\n",
    "model.add(Dense(y_nn_train[0].shape[0], activation='softmax'))\n",
    "# Compile model\n",
    "model.compile(loss='categorical_crossentropy', optimizer='adam', metrics=['accuracy'])"
   ]
  },
  {
   "cell_type": "code",
   "execution_count": 19,
   "metadata": {},
   "outputs": [
    {
     "name": "stdout",
     "output_type": "stream",
     "text": [
      "Epoch 1/10\n",
      "26648/26648 [==============================] - 10s 387us/step - loss: 1.4398 - acc: 0.5771\n",
      "Epoch 2/10\n",
      "26648/26648 [==============================] - 10s 371us/step - loss: 1.2313 - acc: 0.6274\n",
      "Epoch 3/10\n",
      "26648/26648 [==============================] - 11s 406us/step - loss: 1.0330 - acc: 0.6911\n",
      "Epoch 4/10\n",
      "26648/26648 [==============================] - 10s 373us/step - loss: 0.8618 - acc: 0.7450\n",
      "Epoch 5/10\n",
      "26648/26648 [==============================] - 10s 372us/step - loss: 0.7164 - acc: 0.7846\n",
      "Epoch 6/10\n",
      "26648/26648 [==============================] - 10s 373us/step - loss: 0.5891 - acc: 0.8264\n",
      "Epoch 7/10\n",
      "26648/26648 [==============================] - 10s 388us/step - loss: 0.4653 - acc: 0.8676\n",
      "Epoch 8/10\n",
      "26648/26648 [==============================] - 10s 375us/step - loss: 0.3588 - acc: 0.9015\n",
      "Epoch 9/10\n",
      "26648/26648 [==============================] - 11s 398us/step - loss: 0.2725 - acc: 0.9283\n",
      "Epoch 10/10\n",
      "26648/26648 [==============================] - 10s 372us/step - loss: 0.1952 - acc: 0.9508\n"
     ]
    },
    {
     "data": {
      "text/plain": [
       "<keras.callbacks.History at 0x2e2786da208>"
      ]
     },
     "execution_count": 19,
     "metadata": {},
     "output_type": "execute_result"
    }
   ],
   "source": [
    "# Fit the model\n",
    "model.fit(X_train, y_nn_train, epochs=10, batch_size=3000, verbose=1)"
   ]
  },
  {
   "cell_type": "code",
   "execution_count": null,
   "metadata": {
    "collapsed": true
   },
   "outputs": [],
   "source": []
  },
  {
   "cell_type": "code",
   "execution_count": 20,
   "metadata": {},
   "outputs": [
    {
     "data": {
      "text/plain": [
       "0.9663014109876914"
      ]
     },
     "execution_count": 20,
     "metadata": {},
     "output_type": "execute_result"
    }
   ],
   "source": [
    "accuracy_score(model.predict_classes(X_train), y_train)"
   ]
  },
  {
   "cell_type": "code",
   "execution_count": 21,
   "metadata": {},
   "outputs": [
    {
     "data": {
      "text/plain": [
       "0.74569556605211029"
      ]
     },
     "execution_count": 21,
     "metadata": {},
     "output_type": "execute_result"
    }
   ],
   "source": [
    "accuracy_score(model.predict_classes(X_test), y_test)"
   ]
  },
  {
   "cell_type": "code",
   "execution_count": null,
   "metadata": {
    "collapsed": true
   },
   "outputs": [],
   "source": []
  },
  {
   "cell_type": "code",
   "execution_count": 23,
   "metadata": {},
   "outputs": [
    {
     "name": "stdout",
     "output_type": "stream",
     "text": [
      "             precision    recall  f1-score   support\n",
      "\n",
      "          0       0.87      0.79      0.83       343\n",
      "          1       0.95      0.83      0.88       616\n",
      "          2       0.99      0.99      0.99      1038\n",
      "          3       0.96      0.94      0.95      1836\n",
      "          4       0.87      0.89      0.88       491\n",
      "          5       0.97      0.98      0.97      1764\n",
      "          6       0.95      0.99      0.97       759\n",
      "          7       0.99      0.97      0.98      2053\n",
      "          8       0.76      0.95      0.84       357\n",
      "          9       0.99      0.99      0.99      5250\n",
      "         10       0.91      0.90      0.91       356\n",
      "         11       0.93      0.98      0.95       905\n",
      "         12       0.95      0.92      0.93       579\n",
      "         13       0.99      0.99      0.99      4293\n",
      "         14       0.97      0.98      0.98       546\n",
      "         15       0.87      0.93      0.90       308\n",
      "         16       0.99      0.98      0.99      2916\n",
      "         17       0.93      0.88      0.90       699\n",
      "         18       0.94      0.95      0.95      1014\n",
      "         19       0.92      0.97      0.95       525\n",
      "\n",
      "avg / total       0.97      0.97      0.97     26648\n",
      "\n"
     ]
    }
   ],
   "source": [
    "print(classification_report(model.predict_classes(X_train), y_train))"
   ]
  },
  {
   "cell_type": "code",
   "execution_count": 24,
   "metadata": {},
   "outputs": [
    {
     "name": "stdout",
     "output_type": "stream",
     "text": [
      "             precision    recall  f1-score   support\n",
      "\n",
      "          0       0.38      0.25      0.30       234\n",
      "          1       0.40      0.37      0.38       285\n",
      "          2       0.67      0.69      0.68       500\n",
      "          3       0.80      0.78      0.79       908\n",
      "          4       0.48      0.57      0.52       210\n",
      "          5       0.61      0.59      0.60       904\n",
      "          6       0.67      0.72      0.69       362\n",
      "          7       0.87      0.82      0.85      1052\n",
      "          8       0.46      0.58      0.51       173\n",
      "          9       0.84      0.85      0.85      2570\n",
      "         10       0.68      0.64      0.66       183\n",
      "         11       0.65      0.79      0.71       388\n",
      "         12       0.78      0.68      0.73       316\n",
      "         13       0.90      0.91      0.91      2113\n",
      "         14       0.73      0.77      0.75       259\n",
      "         15       0.28      0.41      0.33       111\n",
      "         16       0.74      0.75      0.75      1407\n",
      "         17       0.47      0.32      0.38       475\n",
      "         18       0.71      0.76      0.73       478\n",
      "         19       0.53      0.73      0.62       198\n",
      "\n",
      "avg / total       0.75      0.75      0.74     13126\n",
      "\n"
     ]
    }
   ],
   "source": [
    "print(classification_report(model.predict_classes(X_test), y_test))"
   ]
  },
  {
   "cell_type": "code",
   "execution_count": null,
   "metadata": {
    "collapsed": true
   },
   "outputs": [],
   "source": []
  }
 ],
 "metadata": {
  "kernelspec": {
   "display_name": "Python [conda root]",
   "language": "python",
   "name": "conda-root-py"
  },
  "language_info": {
   "codemirror_mode": {
    "name": "ipython",
    "version": 3
   },
   "file_extension": ".py",
   "mimetype": "text/x-python",
   "name": "python",
   "nbconvert_exporter": "python",
   "pygments_lexer": "ipython3",
   "version": "3.6.1"
  }
 },
 "nbformat": 4,
 "nbformat_minor": 2
}
